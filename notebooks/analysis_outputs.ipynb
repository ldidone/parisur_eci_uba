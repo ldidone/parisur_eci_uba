{
 "cells": [
  {
   "cell_type": "code",
   "execution_count": 1,
   "id": "37c2123a",
   "metadata": {},
   "outputs": [],
   "source": [
    "import pandas as pd\n",
    "import numpy as np"
   ]
  },
  {
   "cell_type": "code",
   "execution_count": 2,
   "id": "8e3ee841",
   "metadata": {},
   "outputs": [],
   "source": [
    "df = pd.read_csv('../data/outputs/invoice_numbers_1689793192.csv')"
   ]
  },
  {
   "cell_type": "code",
   "execution_count": 3,
   "id": "9f43cabe",
   "metadata": {},
   "outputs": [],
   "source": [
    "df.rename(columns={\n",
    "                \"Invoice Number\": \"invoice_number\",\n",
    "                \"Total Charged\": \"total_charged\",\n",
    "            }, inplace=True,)"
   ]
  },
  {
   "cell_type": "code",
   "execution_count": 4,
   "id": "b18f27e0",
   "metadata": {},
   "outputs": [
    {
     "data": {
      "text/html": [
       "<div>\n",
       "<style scoped>\n",
       "    .dataframe tbody tr th:only-of-type {\n",
       "        vertical-align: middle;\n",
       "    }\n",
       "\n",
       "    .dataframe tbody tr th {\n",
       "        vertical-align: top;\n",
       "    }\n",
       "\n",
       "    .dataframe thead th {\n",
       "        text-align: right;\n",
       "    }\n",
       "</style>\n",
       "<table border=\"1\" class=\"dataframe\">\n",
       "  <thead>\n",
       "    <tr style=\"text-align: right;\">\n",
       "      <th></th>\n",
       "      <th>invoice_number</th>\n",
       "      <th>total_charged</th>\n",
       "    </tr>\n",
       "  </thead>\n",
       "  <tbody>\n",
       "    <tr>\n",
       "      <th>0</th>\n",
       "      <td>X15688941</td>\n",
       "      <td>2755430.0</td>\n",
       "    </tr>\n",
       "    <tr>\n",
       "      <th>1</th>\n",
       "      <td>813728138</td>\n",
       "      <td>18004.67</td>\n",
       "    </tr>\n",
       "    <tr>\n",
       "      <th>2</th>\n",
       "      <td>G42174195</td>\n",
       "      <td>10245.21</td>\n",
       "    </tr>\n",
       "    <tr>\n",
       "      <th>3</th>\n",
       "      <td>27307572</td>\n",
       "      <td>20873.79</td>\n",
       "    </tr>\n",
       "    <tr>\n",
       "      <th>4</th>\n",
       "      <td>E37309831</td>\n",
       "      <td>32837.29</td>\n",
       "    </tr>\n",
       "  </tbody>\n",
       "</table>\n",
       "</div>"
      ],
      "text/plain": [
       "  invoice_number total_charged\n",
       "0      X15688941     2755430.0\n",
       "1      813728138      18004.67\n",
       "2      G42174195      10245.21\n",
       "3       27307572      20873.79\n",
       "4      E37309831      32837.29"
      ]
     },
     "execution_count": 4,
     "metadata": {},
     "output_type": "execute_result"
    }
   ],
   "source": [
    "df.head()"
   ]
  },
  {
   "cell_type": "code",
   "execution_count": 5,
   "id": "d8f569b0",
   "metadata": {},
   "outputs": [
    {
     "data": {
      "text/plain": [
       "count     6834\n",
       "unique    6793\n",
       "top        2.0\n",
       "freq         9\n",
       "Name: total_charged, dtype: object"
      ]
     },
     "execution_count": 5,
     "metadata": {},
     "output_type": "execute_result"
    }
   ],
   "source": [
    "df['total_charged'].describe()"
   ]
  },
  {
   "cell_type": "code",
   "execution_count": 6,
   "id": "68b4088f",
   "metadata": {},
   "outputs": [
    {
     "data": {
      "text/plain": [
       "1577"
      ]
     },
     "execution_count": 6,
     "metadata": {},
     "output_type": "execute_result"
    }
   ],
   "source": [
    "df['total_charged'].isna().sum()"
   ]
  },
  {
   "cell_type": "code",
   "execution_count": 7,
   "id": "b672ad5f",
   "metadata": {},
   "outputs": [
    {
     "data": {
      "text/plain": [
       "8       23,682.1\n",
       "225         9,99\n",
       "1113     15,917,\n",
       "2426         55,\n",
       "3572       37,75\n",
       "5592    65,373.4\n",
       "7503       37,04\n",
       "7561        21,6\n",
       "Name: total_charged, dtype: object"
      ]
     },
     "execution_count": 7,
     "metadata": {},
     "output_type": "execute_result"
    }
   ],
   "source": [
    "df[(~df['total_charged'].isna()) & (df['total_charged'].str.contains(\"!\"))]['total_charged'].apply(lambda x: x.replace('!', ''))"
   ]
  },
  {
   "cell_type": "code",
   "execution_count": 8,
   "id": "511b170f",
   "metadata": {},
   "outputs": [
    {
     "data": {
      "text/plain": [
       "8       23682.1\n",
       "225         999\n",
       "1113      15917\n",
       "2426         55\n",
       "3572       3775\n",
       "5592    65373.4\n",
       "7503       3704\n",
       "7561        216\n",
       "Name: total_charged, dtype: object"
      ]
     },
     "execution_count": 8,
     "metadata": {},
     "output_type": "execute_result"
    }
   ],
   "source": [
    "df[(~df['total_charged'].isna()) & (df['total_charged'].str.contains(\"!\"))]['total_charged'].apply(lambda x: x.replace('!', '').replace(',', ''))"
   ]
  },
  {
   "cell_type": "code",
   "execution_count": 9,
   "id": "f04d8d23",
   "metadata": {},
   "outputs": [],
   "source": [
    "df.loc[(~df['total_charged'].isna()) &\n",
    "       (df['total_charged'].str.contains(\"!\")), 'total_charged'] = df['total_charged'].str.replace(\"!\", \"\").replace(\",\", \"\")"
   ]
  },
  {
   "cell_type": "code",
   "execution_count": 10,
   "id": "f3a7644b",
   "metadata": {},
   "outputs": [
    {
     "data": {
      "text/html": [
       "<div>\n",
       "<style scoped>\n",
       "    .dataframe tbody tr th:only-of-type {\n",
       "        vertical-align: middle;\n",
       "    }\n",
       "\n",
       "    .dataframe tbody tr th {\n",
       "        vertical-align: top;\n",
       "    }\n",
       "\n",
       "    .dataframe thead th {\n",
       "        text-align: right;\n",
       "    }\n",
       "</style>\n",
       "<table border=\"1\" class=\"dataframe\">\n",
       "  <thead>\n",
       "    <tr style=\"text-align: right;\">\n",
       "      <th></th>\n",
       "      <th>invoice_number</th>\n",
       "      <th>total_charged</th>\n",
       "    </tr>\n",
       "  </thead>\n",
       "  <tbody>\n",
       "  </tbody>\n",
       "</table>\n",
       "</div>"
      ],
      "text/plain": [
       "Empty DataFrame\n",
       "Columns: [invoice_number, total_charged]\n",
       "Index: []"
      ]
     },
     "execution_count": 10,
     "metadata": {},
     "output_type": "execute_result"
    }
   ],
   "source": [
    "df[(~df['total_charged'].isna()) & (df['total_charged'].str.contains(\"!\"))]"
   ]
  },
  {
   "cell_type": "code",
   "execution_count": 11,
   "id": "5c0c6bb3",
   "metadata": {},
   "outputs": [
    {
     "data": {
      "text/html": [
       "<div>\n",
       "<style scoped>\n",
       "    .dataframe tbody tr th:only-of-type {\n",
       "        vertical-align: middle;\n",
       "    }\n",
       "\n",
       "    .dataframe tbody tr th {\n",
       "        vertical-align: top;\n",
       "    }\n",
       "\n",
       "    .dataframe thead th {\n",
       "        text-align: right;\n",
       "    }\n",
       "</style>\n",
       "<table border=\"1\" class=\"dataframe\">\n",
       "  <thead>\n",
       "    <tr style=\"text-align: right;\">\n",
       "      <th></th>\n",
       "      <th>invoice_number</th>\n",
       "      <th>total_charged</th>\n",
       "    </tr>\n",
       "  </thead>\n",
       "  <tbody>\n",
       "    <tr>\n",
       "      <th>26</th>\n",
       "      <td>G56427813</td>\n",
       "      <td>21,5(</td>\n",
       "    </tr>\n",
       "    <tr>\n",
       "      <th>1395</th>\n",
       "      <td>953436099</td>\n",
       "      <td>44,840.0(</td>\n",
       "    </tr>\n",
       "    <tr>\n",
       "      <th>7314</th>\n",
       "      <td>65912996</td>\n",
       "      <td>14,656.(</td>\n",
       "    </tr>\n",
       "  </tbody>\n",
       "</table>\n",
       "</div>"
      ],
      "text/plain": [
       "     invoice_number total_charged\n",
       "26        G56427813         21,5(\n",
       "1395      953436099     44,840.0(\n",
       "7314       65912996      14,656.("
      ]
     },
     "execution_count": 11,
     "metadata": {},
     "output_type": "execute_result"
    }
   ],
   "source": [
    "df[(~df['total_charged'].isna()) & (df['total_charged'].str.contains(\"\\(\"))]"
   ]
  },
  {
   "cell_type": "code",
   "execution_count": 12,
   "id": "56c45b6b",
   "metadata": {},
   "outputs": [
    {
     "data": {
      "text/plain": [
       "26         21.5\n",
       "1395    44840.0\n",
       "7314      14656\n",
       "Name: total_charged, dtype: object"
      ]
     },
     "execution_count": 12,
     "metadata": {},
     "output_type": "execute_result"
    }
   ],
   "source": [
    "df[(~df['total_charged'].isna()) & \n",
    "   (df['total_charged'].str.contains(\"\\(\"))]['total_charged'].apply(lambda x: x.replace('.(', '').replace('(', '').replace('4,', '4').replace(',', '.'))"
   ]
  },
  {
   "cell_type": "code",
   "execution_count": 13,
   "id": "72e407c1",
   "metadata": {},
   "outputs": [],
   "source": [
    "df.loc[(~df['total_charged'].isna()) & (df['total_charged'].str.contains(\"\\(\")),\n",
    "       'total_charged'] = df['total_charged'].str.replace(\".(\", \"\").replace(\"(\", \"\").replace(\"4,\", \"4\").replace(\",\", \".\")"
   ]
  },
  {
   "cell_type": "code",
   "execution_count": 14,
   "id": "92f92230",
   "metadata": {},
   "outputs": [],
   "source": [
    "df.loc[(~df['total_charged'].isna()) & (df['total_charged'].str.contains(\"\\(\")),\n",
    "       'total_charged'] = df['total_charged'].str.replace(\"(\", \"\").replace(\"4,\", \"4\").replace(\",\", \".\")"
   ]
  },
  {
   "cell_type": "code",
   "execution_count": 15,
   "id": "ccd15999",
   "metadata": {},
   "outputs": [
    {
     "data": {
      "text/html": [
       "<div>\n",
       "<style scoped>\n",
       "    .dataframe tbody tr th:only-of-type {\n",
       "        vertical-align: middle;\n",
       "    }\n",
       "\n",
       "    .dataframe tbody tr th {\n",
       "        vertical-align: top;\n",
       "    }\n",
       "\n",
       "    .dataframe thead th {\n",
       "        text-align: right;\n",
       "    }\n",
       "</style>\n",
       "<table border=\"1\" class=\"dataframe\">\n",
       "  <thead>\n",
       "    <tr style=\"text-align: right;\">\n",
       "      <th></th>\n",
       "      <th>invoice_number</th>\n",
       "      <th>total_charged</th>\n",
       "    </tr>\n",
       "  </thead>\n",
       "  <tbody>\n",
       "  </tbody>\n",
       "</table>\n",
       "</div>"
      ],
      "text/plain": [
       "Empty DataFrame\n",
       "Columns: [invoice_number, total_charged]\n",
       "Index: []"
      ]
     },
     "execution_count": 15,
     "metadata": {},
     "output_type": "execute_result"
    }
   ],
   "source": [
    "df[(~df['total_charged'].isna()) & (df['total_charged'].str.contains(\"\\(\"))]"
   ]
  },
  {
   "cell_type": "code",
   "execution_count": 16,
   "id": "d34776f1",
   "metadata": {},
   "outputs": [
    {
     "data": {
      "text/plain": [
       "8        23,682.1\n",
       "403     51,689.5*\n",
       "703     1l,921.19\n",
       "901       83,970'\n",
       "912       53,066:\n",
       "1113      15,917,\n",
       "1395     44,840.0\n",
       "1518    21,362.2:\n",
       "1760     16,255.f\n",
       "1863       24,31;\n",
       "2895     21,866.€\n",
       "3028     11,321./\n",
       "3048      9,782.;\n",
       "3458      22,842:\n",
       "5134       21,89;\n",
       "5514    25,779.7:\n",
       "5592     65,373.4\n",
       "5733    -3,575.8:\n",
       "6010     7,604.1'\n",
       "6522     21,096.:\n",
       "6643     22,784 .\n",
       "6952       61,57;\n",
       "7293      11,092:\n",
       "7314       14,656\n",
       "8048    12,985.7{\n",
       "Name: total_charged, dtype: object"
      ]
     },
     "execution_count": 16,
     "metadata": {},
     "output_type": "execute_result"
    }
   ],
   "source": [
    "df.loc[(~df['total_charged'].isna()) & \n",
    "   (df['total_charged'].str.contains(\",\")) & \n",
    "   (df['total_charged'].str.len() >= 6),\n",
    "       'total_charged']"
   ]
  },
  {
   "cell_type": "code",
   "execution_count": 17,
   "id": "7bb8e545",
   "metadata": {},
   "outputs": [],
   "source": [
    "df.loc[(~df['total_charged'].isna()) & \n",
    "   (df['total_charged'].str.contains(\",\")) & \n",
    "   (df['total_charged'].str.len() > 6),\n",
    "       'total_charged'] = df['total_charged'].str.replace(\",\", \"\")\\\n",
    "    .replace(\"*\", \"\").replace(\"'\", \"\").replace(\":\").replace(\".f\", \"\").replace(\".€\", \"\").replace(\"./\", \"\").replace(\".;\", \"\")\\\n",
    "    .replace(\".:\", \"\").replace(\":\", \"\").replace(\"{\", \"\").replace(\" .\", \"\")"
   ]
  },
  {
   "cell_type": "code",
   "execution_count": 18,
   "id": "baa255b9",
   "metadata": {},
   "outputs": [],
   "source": [
    "symbols = [\"*\", \"'\", \":\", \".f\", \".€\", \"./\", \".;\", \".:\", \":\", \"{\", \" .\", \",=\", \",/\", \";\"]\n",
    "\n",
    "for symbol in symbols:\n",
    "    df.loc[(~df['total_charged'].isna()) & (df['total_charged'].str.contains(f\"\\\\{symbol}\")),\n",
    "       'total_charged'] = df['total_charged'].str.replace(symbol, \"\")"
   ]
  },
  {
   "cell_type": "code",
   "execution_count": 19,
   "id": "1214e97b",
   "metadata": {},
   "outputs": [],
   "source": [
    "df.loc[(~df['total_charged'].isna()) & \n",
    "   (df['total_charged'].str.contains(\",\")) & \n",
    "   (df['total_charged'].str.len() < 6), 'total_charged'] = df['total_charged'].str.replace(\",\", \".\")"
   ]
  },
  {
   "cell_type": "code",
   "execution_count": 20,
   "id": "bc7103ca",
   "metadata": {},
   "outputs": [],
   "source": [
    "df.loc[(~df['total_charged'].isna()) & (df['total_charged'].str.contains(\"I\")),\n",
    "       'total_charged'] = df['total_charged'].str.replace(\"I\", \"\")"
   ]
  },
  {
   "cell_type": "code",
   "execution_count": 21,
   "id": "69eea73e",
   "metadata": {},
   "outputs": [
    {
     "data": {
      "text/plain": [
       "0       2755430.0\n",
       "1        18004.67\n",
       "2        10245.21\n",
       "3        20873.79\n",
       "4        32837.29\n",
       "          ...    \n",
       "8403     25620.76\n",
       "8404     15117.86\n",
       "8405     22254.24\n",
       "8406     10623.99\n",
       "8410       624.46\n",
       "Name: total_charged, Length: 6834, dtype: object"
      ]
     },
     "execution_count": 21,
     "metadata": {},
     "output_type": "execute_result"
    }
   ],
   "source": [
    "df.loc[(~df['total_charged'].isna()) & (df['total_charged'].str.contains(\"\")),\n",
    "       'total_charged'] "
   ]
  },
  {
   "cell_type": "code",
   "execution_count": 22,
   "id": "73a7b1c9",
   "metadata": {},
   "outputs": [],
   "source": [
    "df.loc[(~df['total_charged'].isna()) & (df['total_charged'].str.contains(\"l\")),\n",
    "       'total_charged'] = df['total_charged'].str.replace('l', \"1\")"
   ]
  },
  {
   "cell_type": "code",
   "execution_count": 23,
   "id": "a0752e7a",
   "metadata": {},
   "outputs": [],
   "source": [
    "df.loc[(~df['total_charged'].isna()) & (df['total_charged'].str.contains(\"€\")),\n",
    "       'total_charged'] = df['total_charged'].str.replace('€', \"\")"
   ]
  },
  {
   "cell_type": "code",
   "execution_count": 24,
   "id": "43de116a",
   "metadata": {},
   "outputs": [
    {
     "data": {
      "text/plain": [
       "726     1\n",
       "1940    .\n",
       "2522    1\n",
       "3282    ]\n",
       "3470    ]\n",
       "5684    2\n",
       "7256    1\n",
       "Name: total_charged, dtype: object"
      ]
     },
     "execution_count": 24,
     "metadata": {},
     "output_type": "execute_result"
    }
   ],
   "source": [
    "df.loc[(~df['total_charged'].isna()) & \n",
    "   (df['total_charged'].str.contains(\".\")) & \n",
    "   (df['total_charged'].str.len() == 1), 'total_charged']"
   ]
  },
  {
   "cell_type": "code",
   "execution_count": null,
   "id": "406f5821",
   "metadata": {},
   "outputs": [],
   "source": []
  },
  {
   "cell_type": "code",
   "execution_count": 25,
   "id": "b89dc063",
   "metadata": {},
   "outputs": [],
   "source": [
    "df.loc[(~df['total_charged'].isna()) & \n",
    "   (df['total_charged'].str.contains(\".\")) & \n",
    "   (df['total_charged'].str.len() == 1), 'total_charged'] = df['total_charged'].str.replace(\".\", \"\")"
   ]
  },
  {
   "cell_type": "code",
   "execution_count": 26,
   "id": "c2c46754",
   "metadata": {},
   "outputs": [],
   "source": [
    "df.loc[(~df['total_charged'].isna()) & (df['total_charged'].str.contains(\"]\")),\n",
    "       'total_charged'] = df['total_charged'].str.replace(']', \"\")"
   ]
  },
  {
   "cell_type": "code",
   "execution_count": 27,
   "id": "36d36581",
   "metadata": {},
   "outputs": [],
   "source": [
    "df.loc[(~df['total_charged'].isna()) & (df['total_charged'].str.contains(\"C\")),\n",
    "       'total_charged'] = df['total_charged'].str.replace('C', \"\")"
   ]
  },
  {
   "cell_type": "code",
   "execution_count": 28,
   "id": "3844abbb",
   "metadata": {},
   "outputs": [],
   "source": [
    "df.loc[(~df['total_charged'].isna()) & (df['total_charged'].str.contains(\"i\")),\n",
    "       'total_charged'] = df['total_charged'].str.replace('i', \"\")"
   ]
  },
  {
   "cell_type": "code",
   "execution_count": 29,
   "id": "a2aa4fe3",
   "metadata": {},
   "outputs": [],
   "source": [
    "df.loc[(~df['total_charged'].isna()) & (df['total_charged'].str.contains(\",\")),\n",
    "       'total_charged'] = df['total_charged'].str.replace(\",\", \"\")"
   ]
  },
  {
   "cell_type": "code",
   "execution_count": 30,
   "id": "abbb1a99",
   "metadata": {},
   "outputs": [],
   "source": [
    "# pd.to_numeric(df['total_charged'], downcast=\"float\")"
   ]
  },
  {
   "cell_type": "code",
   "execution_count": 31,
   "id": "39defaee",
   "metadata": {},
   "outputs": [
    {
     "data": {
      "text/html": [
       "<div>\n",
       "<style scoped>\n",
       "    .dataframe tbody tr th:only-of-type {\n",
       "        vertical-align: middle;\n",
       "    }\n",
       "\n",
       "    .dataframe tbody tr th {\n",
       "        vertical-align: top;\n",
       "    }\n",
       "\n",
       "    .dataframe thead th {\n",
       "        text-align: right;\n",
       "    }\n",
       "</style>\n",
       "<table border=\"1\" class=\"dataframe\">\n",
       "  <thead>\n",
       "    <tr style=\"text-align: right;\">\n",
       "      <th></th>\n",
       "      <th>invoice_number</th>\n",
       "      <th>total_charged</th>\n",
       "    </tr>\n",
       "  </thead>\n",
       "  <tbody>\n",
       "    <tr>\n",
       "      <th>0</th>\n",
       "      <td>X15688941</td>\n",
       "      <td>2755430.0</td>\n",
       "    </tr>\n",
       "    <tr>\n",
       "      <th>1</th>\n",
       "      <td>813728138</td>\n",
       "      <td>18004.67</td>\n",
       "    </tr>\n",
       "    <tr>\n",
       "      <th>2</th>\n",
       "      <td>G42174195</td>\n",
       "      <td>10245.21</td>\n",
       "    </tr>\n",
       "    <tr>\n",
       "      <th>3</th>\n",
       "      <td>27307572</td>\n",
       "      <td>20873.79</td>\n",
       "    </tr>\n",
       "    <tr>\n",
       "      <th>4</th>\n",
       "      <td>E37309831</td>\n",
       "      <td>32837.29</td>\n",
       "    </tr>\n",
       "  </tbody>\n",
       "</table>\n",
       "</div>"
      ],
      "text/plain": [
       "  invoice_number total_charged\n",
       "0      X15688941     2755430.0\n",
       "1      813728138      18004.67\n",
       "2      G42174195      10245.21\n",
       "3       27307572      20873.79\n",
       "4      E37309831      32837.29"
      ]
     },
     "execution_count": 31,
     "metadata": {},
     "output_type": "execute_result"
    }
   ],
   "source": [
    "df.head()"
   ]
  },
  {
   "cell_type": "code",
   "execution_count": 32,
   "id": "676f698c",
   "metadata": {},
   "outputs": [],
   "source": [
    "df['total_charged'] = pd.to_numeric(df['total_charged'], downcast=\"float\")"
   ]
  },
  {
   "cell_type": "code",
   "execution_count": 33,
   "id": "34a61ba8",
   "metadata": {},
   "outputs": [
    {
     "data": {
      "text/plain": [
       "count    6.820000e+03\n",
       "mean     9.714527e+04\n",
       "std      1.227841e+06\n",
       "min     -5.165390e+07\n",
       "25%      1.457636e+04\n",
       "50%      2.338435e+04\n",
       "75%      3.639232e+04\n",
       "max      5.437558e+07\n",
       "Name: total_charged, dtype: float64"
      ]
     },
     "execution_count": 33,
     "metadata": {},
     "output_type": "execute_result"
    }
   ],
   "source": [
    "df['total_charged'].describe()"
   ]
  },
  {
   "cell_type": "code",
   "execution_count": 34,
   "id": "07eed64b",
   "metadata": {},
   "outputs": [
    {
     "data": {
      "text/plain": [
       "1591"
      ]
     },
     "execution_count": 34,
     "metadata": {},
     "output_type": "execute_result"
    }
   ],
   "source": [
    "df['total_charged'].isna().sum()"
   ]
  },
  {
   "cell_type": "code",
   "execution_count": 35,
   "id": "52800eed",
   "metadata": {},
   "outputs": [],
   "source": [
    "df.loc[df['total_charged'].isna(), 'total_charged'] = 0"
   ]
  },
  {
   "cell_type": "code",
   "execution_count": 36,
   "id": "6ddb20e1",
   "metadata": {},
   "outputs": [],
   "source": [
    "df.rename(columns={\n",
    "                \"invoice_number\": \"Invoice Number\",\n",
    "                \"total_charged\": \"Total Charged\",\n",
    "            }, inplace=True,)"
   ]
  },
  {
   "cell_type": "code",
   "execution_count": 37,
   "id": "3bebabaf",
   "metadata": {},
   "outputs": [],
   "source": [
    "df.to_csv('../data/outputs/invoice_numbers_casted_1689793192.csv', index=False)"
   ]
  },
  {
   "cell_type": "code",
   "execution_count": 38,
   "id": "53943f94",
   "metadata": {},
   "outputs": [
    {
     "data": {
      "text/plain": [
       "78769.55625965998"
      ]
     },
     "execution_count": 38,
     "metadata": {},
     "output_type": "execute_result"
    }
   ],
   "source": [
    "mean = df['Total Charged'].mean()\n",
    "mean"
   ]
  },
  {
   "cell_type": "code",
   "execution_count": 39,
   "id": "e74aee1f",
   "metadata": {},
   "outputs": [],
   "source": [
    "df.loc[df['Total Charged'].isna(), 'Total Charged'] = mean"
   ]
  },
  {
   "cell_type": "code",
   "execution_count": 40,
   "id": "c968aa61",
   "metadata": {},
   "outputs": [
    {
     "data": {
      "text/plain": [
       "count    8.411000e+03\n",
       "mean     7.876956e+04\n",
       "std      1.106271e+06\n",
       "min     -5.165390e+07\n",
       "25%      6.043100e+03\n",
       "50%      1.921310e+04\n",
       "75%      3.252289e+04\n",
       "max      5.437558e+07\n",
       "Name: Total Charged, dtype: float64"
      ]
     },
     "execution_count": 40,
     "metadata": {},
     "output_type": "execute_result"
    }
   ],
   "source": [
    "df['Total Charged'].describe()"
   ]
  },
  {
   "cell_type": "code",
   "execution_count": 41,
   "id": "bbfb69b3",
   "metadata": {},
   "outputs": [],
   "source": [
    "df.to_csv('../data/outputs/invoice_numbers_inputed_1689793193.csv', index=False)"
   ]
  },
  {
   "cell_type": "code",
   "execution_count": null,
   "id": "cf786dbc",
   "metadata": {},
   "outputs": [],
   "source": []
  }
 ],
 "metadata": {
  "kernelspec": {
   "display_name": "Python 3 (ipykernel)",
   "language": "python",
   "name": "python3"
  },
  "language_info": {
   "codemirror_mode": {
    "name": "ipython",
    "version": 3
   },
   "file_extension": ".py",
   "mimetype": "text/x-python",
   "name": "python",
   "nbconvert_exporter": "python",
   "pygments_lexer": "ipython3",
   "version": "3.9.5"
  }
 },
 "nbformat": 4,
 "nbformat_minor": 5
}
