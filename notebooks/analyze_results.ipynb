{
 "cells": [
  {
   "cell_type": "code",
   "execution_count": 24,
   "id": "3d63e3a1",
   "metadata": {},
   "outputs": [],
   "source": [
    "import pandas as pd\n",
    "import numpy as np\n",
    "import re"
   ]
  },
  {
   "cell_type": "code",
   "execution_count": 25,
   "id": "98e7a285",
   "metadata": {},
   "outputs": [],
   "source": [
    "df_new = pd.read_csv(\"../data/outputs/invoice_numbers_fixed_last.csv\")"
   ]
  },
  {
   "cell_type": "code",
   "execution_count": 26,
   "id": "57de2120",
   "metadata": {},
   "outputs": [],
   "source": [
    "df_curated = pd.read_csv(\"../data/outputs/invoice_numbers_fixed.csv\")"
   ]
  },
  {
   "cell_type": "code",
   "execution_count": 27,
   "id": "63dc3d33",
   "metadata": {},
   "outputs": [
    {
     "data": {
      "text/html": [
       "<div>\n",
       "<style scoped>\n",
       "    .dataframe tbody tr th:only-of-type {\n",
       "        vertical-align: middle;\n",
       "    }\n",
       "\n",
       "    .dataframe tbody tr th {\n",
       "        vertical-align: top;\n",
       "    }\n",
       "\n",
       "    .dataframe thead th {\n",
       "        text-align: right;\n",
       "    }\n",
       "</style>\n",
       "<table border=\"1\" class=\"dataframe\">\n",
       "  <thead>\n",
       "    <tr style=\"text-align: right;\">\n",
       "      <th></th>\n",
       "      <th>Invoice Number</th>\n",
       "      <th>Total Charged</th>\n",
       "    </tr>\n",
       "  </thead>\n",
       "  <tbody>\n",
       "    <tr>\n",
       "      <th>0</th>\n",
       "      <td>X15688941</td>\n",
       "      <td>2755430.00</td>\n",
       "    </tr>\n",
       "    <tr>\n",
       "      <th>1</th>\n",
       "      <td>813728138</td>\n",
       "      <td>18004.67</td>\n",
       "    </tr>\n",
       "    <tr>\n",
       "      <th>2</th>\n",
       "      <td>G42174195</td>\n",
       "      <td>10245.21</td>\n",
       "    </tr>\n",
       "    <tr>\n",
       "      <th>3</th>\n",
       "      <td>27307572</td>\n",
       "      <td>20873.79</td>\n",
       "    </tr>\n",
       "    <tr>\n",
       "      <th>4</th>\n",
       "      <td>E37309831</td>\n",
       "      <td>32837.29</td>\n",
       "    </tr>\n",
       "    <tr>\n",
       "      <th>...</th>\n",
       "      <td>...</td>\n",
       "      <td>...</td>\n",
       "    </tr>\n",
       "    <tr>\n",
       "      <th>8406</th>\n",
       "      <td>207061731</td>\n",
       "      <td>10623.99</td>\n",
       "    </tr>\n",
       "    <tr>\n",
       "      <th>8407</th>\n",
       "      <td>B91149000</td>\n",
       "      <td>NaN</td>\n",
       "    </tr>\n",
       "    <tr>\n",
       "      <th>8408</th>\n",
       "      <td>I80104458</td>\n",
       "      <td>NaN</td>\n",
       "    </tr>\n",
       "    <tr>\n",
       "      <th>8409</th>\n",
       "      <td>E26231313</td>\n",
       "      <td>NaN</td>\n",
       "    </tr>\n",
       "    <tr>\n",
       "      <th>8410</th>\n",
       "      <td>400092943</td>\n",
       "      <td>624.46</td>\n",
       "    </tr>\n",
       "  </tbody>\n",
       "</table>\n",
       "<p>8411 rows × 2 columns</p>\n",
       "</div>"
      ],
      "text/plain": [
       "     Invoice Number  Total Charged\n",
       "0         X15688941     2755430.00\n",
       "1         813728138       18004.67\n",
       "2         G42174195       10245.21\n",
       "3          27307572       20873.79\n",
       "4         E37309831       32837.29\n",
       "...             ...            ...\n",
       "8406      207061731       10623.99\n",
       "8407      B91149000            NaN\n",
       "8408      I80104458            NaN\n",
       "8409      E26231313            NaN\n",
       "8410      400092943         624.46\n",
       "\n",
       "[8411 rows x 2 columns]"
      ]
     },
     "execution_count": 27,
     "metadata": {},
     "output_type": "execute_result"
    }
   ],
   "source": [
    "df_new"
   ]
  },
  {
   "cell_type": "code",
   "execution_count": 28,
   "id": "4e5385dc",
   "metadata": {},
   "outputs": [
    {
     "data": {
      "text/html": [
       "<div>\n",
       "<style scoped>\n",
       "    .dataframe tbody tr th:only-of-type {\n",
       "        vertical-align: middle;\n",
       "    }\n",
       "\n",
       "    .dataframe tbody tr th {\n",
       "        vertical-align: top;\n",
       "    }\n",
       "\n",
       "    .dataframe thead th {\n",
       "        text-align: right;\n",
       "    }\n",
       "</style>\n",
       "<table border=\"1\" class=\"dataframe\">\n",
       "  <thead>\n",
       "    <tr style=\"text-align: right;\">\n",
       "      <th></th>\n",
       "      <th>Invoice Number</th>\n",
       "      <th>Total Charged</th>\n",
       "    </tr>\n",
       "  </thead>\n",
       "  <tbody>\n",
       "    <tr>\n",
       "      <th>0</th>\n",
       "      <td>X15688941</td>\n",
       "      <td>2755430.00</td>\n",
       "    </tr>\n",
       "    <tr>\n",
       "      <th>1</th>\n",
       "      <td>813728138</td>\n",
       "      <td>18004.67</td>\n",
       "    </tr>\n",
       "    <tr>\n",
       "      <th>2</th>\n",
       "      <td>G42174195</td>\n",
       "      <td>10245.21</td>\n",
       "    </tr>\n",
       "    <tr>\n",
       "      <th>3</th>\n",
       "      <td>27307572</td>\n",
       "      <td>20873.79</td>\n",
       "    </tr>\n",
       "    <tr>\n",
       "      <th>4</th>\n",
       "      <td>E37309831</td>\n",
       "      <td>32837.29</td>\n",
       "    </tr>\n",
       "    <tr>\n",
       "      <th>...</th>\n",
       "      <td>...</td>\n",
       "      <td>...</td>\n",
       "    </tr>\n",
       "    <tr>\n",
       "      <th>8406</th>\n",
       "      <td>207061731</td>\n",
       "      <td>10623.99</td>\n",
       "    </tr>\n",
       "    <tr>\n",
       "      <th>8407</th>\n",
       "      <td>B91149000</td>\n",
       "      <td>NaN</td>\n",
       "    </tr>\n",
       "    <tr>\n",
       "      <th>8408</th>\n",
       "      <td>I80104458</td>\n",
       "      <td>NaN</td>\n",
       "    </tr>\n",
       "    <tr>\n",
       "      <th>8409</th>\n",
       "      <td>E26231313</td>\n",
       "      <td>NaN</td>\n",
       "    </tr>\n",
       "    <tr>\n",
       "      <th>8410</th>\n",
       "      <td>400092943</td>\n",
       "      <td>624.46</td>\n",
       "    </tr>\n",
       "  </tbody>\n",
       "</table>\n",
       "<p>8411 rows × 2 columns</p>\n",
       "</div>"
      ],
      "text/plain": [
       "     Invoice Number  Total Charged\n",
       "0         X15688941     2755430.00\n",
       "1         813728138       18004.67\n",
       "2         G42174195       10245.21\n",
       "3          27307572       20873.79\n",
       "4         E37309831       32837.29\n",
       "...             ...            ...\n",
       "8406      207061731       10623.99\n",
       "8407      B91149000            NaN\n",
       "8408      I80104458            NaN\n",
       "8409      E26231313            NaN\n",
       "8410      400092943         624.46\n",
       "\n",
       "[8411 rows x 2 columns]"
      ]
     },
     "execution_count": 28,
     "metadata": {},
     "output_type": "execute_result"
    }
   ],
   "source": [
    "df_curated"
   ]
  },
  {
   "cell_type": "code",
   "execution_count": 29,
   "id": "dc696041",
   "metadata": {},
   "outputs": [
    {
     "data": {
      "text/plain": [
       "1278"
      ]
     },
     "execution_count": 29,
     "metadata": {},
     "output_type": "execute_result"
    }
   ],
   "source": [
    "df_new[\"Total Charged\"].isna().sum()"
   ]
  },
  {
   "cell_type": "code",
   "execution_count": 30,
   "id": "107651b3",
   "metadata": {},
   "outputs": [
    {
     "data": {
      "text/plain": [
       "1591"
      ]
     },
     "execution_count": 30,
     "metadata": {},
     "output_type": "execute_result"
    }
   ],
   "source": [
    "df_curated[\"Total Charged\"].isna().sum()"
   ]
  },
  {
   "cell_type": "code",
   "execution_count": 31,
   "id": "4e08041d",
   "metadata": {},
   "outputs": [
    {
     "data": {
      "text/plain": [
       "count    7.133000e+03\n",
       "mean     1.018076e+05\n",
       "std      1.230620e+06\n",
       "min     -5.165390e+07\n",
       "25%      1.448414e+04\n",
       "50%      2.337490e+04\n",
       "75%      3.641124e+04\n",
       "max      5.437558e+07\n",
       "Name: Total Charged, dtype: float64"
      ]
     },
     "execution_count": 31,
     "metadata": {},
     "output_type": "execute_result"
    }
   ],
   "source": [
    "df_new[\"Total Charged\"].describe()"
   ]
  },
  {
   "cell_type": "markdown",
   "id": "783667f4",
   "metadata": {},
   "source": [
    "### Inputting error values"
   ]
  },
  {
   "cell_type": "code",
   "execution_count": 32,
   "id": "f19ffb05",
   "metadata": {},
   "outputs": [],
   "source": [
    "df_new.rename(columns={\n",
    "                \"Invoice Number\": \"invoice_number\",\n",
    "                \"Total Charged\": \"total_charged\",\n",
    "            }, inplace=True,)"
   ]
  },
  {
   "cell_type": "code",
   "execution_count": null,
   "id": "16410088",
   "metadata": {},
   "outputs": [],
   "source": []
  },
  {
   "cell_type": "code",
   "execution_count": null,
   "id": "724a7799",
   "metadata": {},
   "outputs": [],
   "source": []
  }
 ],
 "metadata": {
  "kernelspec": {
   "display_name": "Python 3 (ipykernel)",
   "language": "python",
   "name": "python3"
  },
  "language_info": {
   "codemirror_mode": {
    "name": "ipython",
    "version": 3
   },
   "file_extension": ".py",
   "mimetype": "text/x-python",
   "name": "python",
   "nbconvert_exporter": "python",
   "pygments_lexer": "ipython3",
   "version": "3.9.5"
  }
 },
 "nbformat": 4,
 "nbformat_minor": 5
}
