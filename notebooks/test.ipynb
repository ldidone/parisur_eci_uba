{
 "cells": [
  {
   "cell_type": "code",
   "execution_count": 46,
   "id": "e622a88f",
   "metadata": {},
   "outputs": [],
   "source": [
    "import pandas as pd\n",
    "import numpy as np\n",
    "import re"
   ]
  },
  {
   "cell_type": "code",
   "execution_count": 3,
   "id": "35f42e9b",
   "metadata": {},
   "outputs": [],
   "source": [
    "df = pd.read_csv(\"../data/outputs/invoice_numbers_fixed.csv\")"
   ]
  },
  {
   "cell_type": "code",
   "execution_count": 4,
   "id": "5eb9cccc",
   "metadata": {},
   "outputs": [],
   "source": [
    "df.rename(columns={'Invoice Number': 'invoice_number',\n",
    "          'Total Charged': 'total_charged'}, inplace=True)"
   ]
  },
  {
   "cell_type": "code",
   "execution_count": 5,
   "id": "676599fa",
   "metadata": {},
   "outputs": [
    {
     "data": {
      "text/plain": [
       "8411"
      ]
     },
     "execution_count": 5,
     "metadata": {},
     "output_type": "execute_result"
    }
   ],
   "source": [
    "len(df.invoice_number.unique())"
   ]
  },
  {
   "cell_type": "code",
   "execution_count": 6,
   "id": "f6392aea",
   "metadata": {},
   "outputs": [
    {
     "data": {
      "text/plain": [
       "(8411, 2)"
      ]
     },
     "execution_count": 6,
     "metadata": {},
     "output_type": "execute_result"
    }
   ],
   "source": [
    "df.shape"
   ]
  },
  {
   "cell_type": "code",
   "execution_count": 7,
   "id": "82ec6a6e",
   "metadata": {},
   "outputs": [
    {
     "data": {
      "text/html": [
       "<div>\n",
       "<style scoped>\n",
       "    .dataframe tbody tr th:only-of-type {\n",
       "        vertical-align: middle;\n",
       "    }\n",
       "\n",
       "    .dataframe tbody tr th {\n",
       "        vertical-align: top;\n",
       "    }\n",
       "\n",
       "    .dataframe thead th {\n",
       "        text-align: right;\n",
       "    }\n",
       "</style>\n",
       "<table border=\"1\" class=\"dataframe\">\n",
       "  <thead>\n",
       "    <tr style=\"text-align: right;\">\n",
       "      <th></th>\n",
       "      <th>invoice_number</th>\n",
       "      <th>total_charged</th>\n",
       "    </tr>\n",
       "  </thead>\n",
       "  <tbody>\n",
       "    <tr>\n",
       "      <th>0</th>\n",
       "      <td>X15688941</td>\n",
       "      <td>2755430.00</td>\n",
       "    </tr>\n",
       "    <tr>\n",
       "      <th>1</th>\n",
       "      <td>813728138</td>\n",
       "      <td>18004.67</td>\n",
       "    </tr>\n",
       "    <tr>\n",
       "      <th>2</th>\n",
       "      <td>G42174195</td>\n",
       "      <td>10245.21</td>\n",
       "    </tr>\n",
       "    <tr>\n",
       "      <th>3</th>\n",
       "      <td>27307572</td>\n",
       "      <td>20873.79</td>\n",
       "    </tr>\n",
       "    <tr>\n",
       "      <th>4</th>\n",
       "      <td>E37309831</td>\n",
       "      <td>32837.29</td>\n",
       "    </tr>\n",
       "  </tbody>\n",
       "</table>\n",
       "</div>"
      ],
      "text/plain": [
       "  invoice_number  total_charged\n",
       "0      X15688941     2755430.00\n",
       "1      813728138       18004.67\n",
       "2      G42174195       10245.21\n",
       "3       27307572       20873.79\n",
       "4      E37309831       32837.29"
      ]
     },
     "execution_count": 7,
     "metadata": {},
     "output_type": "execute_result"
    }
   ],
   "source": [
    "df.head()"
   ]
  },
  {
   "cell_type": "code",
   "execution_count": 8,
   "id": "769a3555",
   "metadata": {},
   "outputs": [],
   "source": [
    "invoices_numbers = list(df.invoice_number)"
   ]
  },
  {
   "cell_type": "markdown",
   "id": "b896a359",
   "metadata": {},
   "source": [
    "### OCR"
   ]
  },
  {
   "cell_type": "code",
   "execution_count": 9,
   "id": "7aea737e",
   "metadata": {},
   "outputs": [],
   "source": [
    "import cv2\n",
    "import easyocr"
   ]
  },
  {
   "cell_type": "code",
   "execution_count": 10,
   "id": "d96a16dd",
   "metadata": {},
   "outputs": [
    {
     "name": "stderr",
     "output_type": "stream",
     "text": [
      "Using CPU. Note: This module is much faster with a GPU.\n"
     ]
    }
   ],
   "source": [
    "reader = easyocr.Reader([\"es\", \"en\"], gpu=False)"
   ]
  },
  {
   "cell_type": "code",
   "execution_count": 111,
   "id": "38a40cd0",
   "metadata": {},
   "outputs": [],
   "source": [
    "input_path = \"../data/inputs/invoices/jpgs/2021-01-08_637.jpg\""
   ]
  },
  {
   "cell_type": "code",
   "execution_count": 112,
   "id": "656aaa2d",
   "metadata": {},
   "outputs": [],
   "source": [
    "image = cv2.imread(input_path)\n",
    "result = reader.readtext(image, paragraph=False)"
   ]
  },
  {
   "cell_type": "code",
   "execution_count": 113,
   "id": "7bec9981",
   "metadata": {},
   "outputs": [],
   "source": [
    "invoice_strings = invoices_numbers\n",
    "total_strings = ['Total:']"
   ]
  },
  {
   "cell_type": "code",
   "execution_count": 114,
   "id": "70220db5",
   "metadata": {
    "scrolled": true
   },
   "outputs": [
    {
     "name": "stdout",
     "output_type": "stream",
     "text": [
      "104.00\n",
      "6656.00\n",
      "3.29\n",
      "3.29\n",
      "104.56\n",
      "104.56\n",
      "164.00\n",
      "198.94\n",
      "99.47\n",
      "49.76\n",
      "49.76\n",
      "158.55\n",
      "792.75\n",
      "6.39\n",
      "6.39\n",
      "1310.00\n",
      "1310.00\n",
      "81.00\n",
      "1660.50\n",
      "3260.00\n",
      "3260.00\n",
      "516.60\n",
      "516.60\n",
      "139.00\n",
      "99.52\n",
      "99.52\n",
      "1464.80\n",
      "1464.80\n",
      "136.00\n",
      "1088.00\n",
      "8.07\n",
      "8.07\n",
      "498.12\n",
      "8.81\n",
      "8.81\n",
      "155.04\n",
      "155.04\n",
      "194.60\n",
      "3697.40\n",
      "0.00\n",
      "0.00\n",
      "1322.40\n",
      "1322.40\n",
      "134.69\n",
      "134.69\n",
      "65.50\n",
      "326.00\n",
      "326.00\n",
      "33273.69\n"
     ]
    }
   ],
   "source": [
    "total = 0\n",
    "for res in result:\n",
    "    \"\"\"if not invoice_number:\n",
    "        for invoice in invoice_strings:\n",
    "            if invoice.upper() in res[1].upper():\n",
    "                invoice_number = invoice\n",
    "                print(invoice_number)\n",
    "    else:\n",
    "        for total in total_strings:\n",
    "            if total.upper() in res[1].upper():\n",
    "                total_charged = res[1].split(': ')[1].replace('$', '')\n",
    "                total_charged = np.single(total_charged.replace(',', ''))\n",
    "                print(total_charged)\"\"\"\n",
    "    if \"$\" in res[1] and 'Total:' not in res[1]:\n",
    "        value = res[1]\n",
    "        \"\"\"value = value.replace(\"$\", \"\")\n",
    "        value = value.replace(\" \", \"\")\n",
    "        value = value.replace(',', '')\n",
    "        value = float(value)\n",
    "        total += value\"\"\"\n",
    "        expresion_regular = r\"-?[\\$\\d,.]+\"\n",
    "        salida = re.findall(expresion_regular, value)\n",
    "        out = \"\".join(salida)\n",
    "        out = out.replace(\"$\", \"\")\n",
    "        out = out.replace(\",\", \"\")\n",
    "        print(out)\n",
    "        if out:\n",
    "            total += (float(out))\n",
    "print(total)"
   ]
  },
  {
   "cell_type": "code",
   "execution_count": 155,
   "id": "c3086523",
   "metadata": {},
   "outputs": [],
   "source": [
    "save = []"
   ]
  },
  {
   "cell_type": "code",
   "execution_count": 156,
   "id": "0cf06cb0",
   "metadata": {},
   "outputs": [],
   "source": [
    "item = ['path', 'invoice', result]\n",
    "item2 = ['path', 'invoice', result]"
   ]
  },
  {
   "cell_type": "code",
   "execution_count": 157,
   "id": "cb06d910",
   "metadata": {},
   "outputs": [],
   "source": [
    "save.append(item)\n",
    "save.append(item2)"
   ]
  },
  {
   "cell_type": "code",
   "execution_count": 158,
   "id": "8b95fb8b",
   "metadata": {},
   "outputs": [],
   "source": [
    "import pickle\n",
    "\n",
    "with open('outfile.txt', 'wb') as fp:\n",
    "    pickle.dump(save, fp)"
   ]
  },
  {
   "cell_type": "code",
   "execution_count": null,
   "id": "d290e060",
   "metadata": {},
   "outputs": [],
   "source": []
  },
  {
   "cell_type": "code",
   "execution_count": 168,
   "id": "c965a810",
   "metadata": {},
   "outputs": [],
   "source": [
    "with open ('../data/outputs/save_errors_1689899531.txt', 'rb') as fp:\n",
    "    itemlist = pickle.load(fp)"
   ]
  },
  {
   "cell_type": "code",
   "execution_count": 169,
   "id": "d57c9a82",
   "metadata": {},
   "outputs": [
    {
     "data": {
      "text/plain": [
       "[]"
      ]
     },
     "execution_count": 169,
     "metadata": {},
     "output_type": "execute_result"
    }
   ],
   "source": [
    "itemlist"
   ]
  },
  {
   "cell_type": "code",
   "execution_count": 162,
   "id": "186136fa",
   "metadata": {},
   "outputs": [],
   "source": [
    "total = None"
   ]
  },
  {
   "cell_type": "code",
   "execution_count": 166,
   "id": "cbb94268",
   "metadata": {},
   "outputs": [],
   "source": [
    "total = 4\n",
    "total += 5"
   ]
  },
  {
   "cell_type": "code",
   "execution_count": 84,
   "id": "69adb87e",
   "metadata": {},
   "outputs": [],
   "source": [
    "df.loc[df.invoice_number == invoice_number, 'total_charged'] = total_charged"
   ]
  },
  {
   "cell_type": "code",
   "execution_count": 86,
   "id": "3fc887c1",
   "metadata": {},
   "outputs": [
    {
     "data": {
      "text/html": [
       "<div>\n",
       "<style scoped>\n",
       "    .dataframe tbody tr th:only-of-type {\n",
       "        vertical-align: middle;\n",
       "    }\n",
       "\n",
       "    .dataframe tbody tr th {\n",
       "        vertical-align: top;\n",
       "    }\n",
       "\n",
       "    .dataframe thead th {\n",
       "        text-align: right;\n",
       "    }\n",
       "</style>\n",
       "<table border=\"1\" class=\"dataframe\">\n",
       "  <thead>\n",
       "    <tr style=\"text-align: right;\">\n",
       "      <th></th>\n",
       "      <th>invoice_number</th>\n",
       "      <th>total_charged</th>\n",
       "    </tr>\n",
       "  </thead>\n",
       "  <tbody>\n",
       "    <tr>\n",
       "      <th>1020</th>\n",
       "      <td>D44139084</td>\n",
       "      <td>36284.26</td>\n",
       "    </tr>\n",
       "  </tbody>\n",
       "</table>\n",
       "</div>"
      ],
      "text/plain": [
       "     invoice_number total_charged\n",
       "1020      D44139084      36284.26"
      ]
     },
     "execution_count": 86,
     "metadata": {},
     "output_type": "execute_result"
    }
   ],
   "source": [
    "df[df.invoice_number == 'D44139084']"
   ]
  },
  {
   "cell_type": "code",
   "execution_count": 90,
   "id": "15096b3a",
   "metadata": {},
   "outputs": [
    {
     "data": {
      "text/html": [
       "<div>\n",
       "<style scoped>\n",
       "    .dataframe tbody tr th:only-of-type {\n",
       "        vertical-align: middle;\n",
       "    }\n",
       "\n",
       "    .dataframe tbody tr th {\n",
       "        vertical-align: top;\n",
       "    }\n",
       "\n",
       "    .dataframe thead th {\n",
       "        text-align: right;\n",
       "    }\n",
       "</style>\n",
       "<table border=\"1\" class=\"dataframe\">\n",
       "  <thead>\n",
       "    <tr style=\"text-align: right;\">\n",
       "      <th></th>\n",
       "      <th>invoice_number</th>\n",
       "      <th>total_charged</th>\n",
       "    </tr>\n",
       "  </thead>\n",
       "  <tbody>\n",
       "    <tr>\n",
       "      <th>1020</th>\n",
       "      <td>D44139084</td>\n",
       "      <td>36284.26</td>\n",
       "    </tr>\n",
       "    <tr>\n",
       "      <th>1309</th>\n",
       "      <td>179850710</td>\n",
       "      <td>38766.68</td>\n",
       "    </tr>\n",
       "  </tbody>\n",
       "</table>\n",
       "</div>"
      ],
      "text/plain": [
       "     invoice_number total_charged\n",
       "1020      D44139084      36284.26\n",
       "1309      179850710      38766.68"
      ]
     },
     "execution_count": 90,
     "metadata": {},
     "output_type": "execute_result"
    }
   ],
   "source": [
    "df[~df['total_charged'].isna()]"
   ]
  },
  {
   "cell_type": "code",
   "execution_count": 93,
   "id": "80d88aac",
   "metadata": {},
   "outputs": [],
   "source": [
    "import time"
   ]
  },
  {
   "cell_type": "code",
   "execution_count": 95,
   "id": "6f5013bd",
   "metadata": {},
   "outputs": [
    {
     "data": {
      "text/plain": [
       "1689720588"
      ]
     },
     "execution_count": 95,
     "metadata": {},
     "output_type": "execute_result"
    }
   ],
   "source": [
    "round(time.time())"
   ]
  },
  {
   "cell_type": "code",
   "execution_count": 111,
   "id": "cd3b3acb",
   "metadata": {},
   "outputs": [],
   "source": [
    "output_path=f'../data/outputs/invoice_numbers_{round(time.time())}.csv'"
   ]
  },
  {
   "cell_type": "code",
   "execution_count": 112,
   "id": "480ab6bb",
   "metadata": {},
   "outputs": [
    {
     "data": {
      "text/plain": [
       "'../data/outputs/invoice_numbers_1689720790.csv'"
      ]
     },
     "execution_count": 112,
     "metadata": {},
     "output_type": "execute_result"
    }
   ],
   "source": [
    "output_path"
   ]
  },
  {
   "cell_type": "code",
   "execution_count": 113,
   "id": "12693a95",
   "metadata": {},
   "outputs": [],
   "source": [
    "df.rename(columns={'invoice_number': 'Invoice Number',\n",
    "          'total_charged': 'Total Charged'}, inplace=True)"
   ]
  },
  {
   "cell_type": "code",
   "execution_count": 114,
   "id": "6b21fbac",
   "metadata": {},
   "outputs": [],
   "source": [
    "df.to_csv(output_path, index=False)"
   ]
  },
  {
   "cell_type": "code",
   "execution_count": 115,
   "id": "15585489",
   "metadata": {},
   "outputs": [],
   "source": [
    "results = pd.read_csv(output_path)"
   ]
  },
  {
   "cell_type": "code",
   "execution_count": 121,
   "id": "e8bff764",
   "metadata": {},
   "outputs": [
    {
     "data": {
      "text/plain": [
       "2"
      ]
     },
     "execution_count": 121,
     "metadata": {},
     "output_type": "execute_result"
    }
   ],
   "source": [
    "results[~df['Total Charged'].isna()].shape[0]"
   ]
  },
  {
   "cell_type": "code",
   "execution_count": 122,
   "id": "ec032b2b",
   "metadata": {},
   "outputs": [
    {
     "data": {
      "text/plain": [
       "8411"
      ]
     },
     "execution_count": 122,
     "metadata": {},
     "output_type": "execute_result"
    }
   ],
   "source": [
    "results.shape[0]"
   ]
  },
  {
   "cell_type": "code",
   "execution_count": null,
   "id": "afca489e",
   "metadata": {},
   "outputs": [],
   "source": []
  },
  {
   "cell_type": "code",
   "execution_count": null,
   "id": "2d3b3ab3",
   "metadata": {},
   "outputs": [],
   "source": []
  },
  {
   "cell_type": "code",
   "execution_count": 91,
   "id": "b04740cf",
   "metadata": {},
   "outputs": [
    {
     "name": "stdout",
     "output_type": "stream",
     "text": [
      "-1965.00\n"
     ]
    }
   ],
   "source": [
    "import re\n",
    "\n",
    "entrada = \"-$1,965.00\"\n",
    "expresion_regular = r\"-?[\\$\\d,.]+\"\n",
    "salida = re.findall(expresion_regular, entrada)\n",
    "\n",
    "out = \"\".join(salida)\n",
    "out = out.replace(\"$\", \"\")\n",
    "out = out.replace(\",\", \"\")\n",
    "print(out)"
   ]
  },
  {
   "cell_type": "code",
   "execution_count": 134,
   "id": "82a41f89",
   "metadata": {},
   "outputs": [],
   "source": [
    "invoice_number = None\n",
    "total_charged = 14"
   ]
  },
  {
   "cell_type": "code",
   "execution_count": 135,
   "id": "4661cdf0",
   "metadata": {},
   "outputs": [
    {
     "name": "stdout",
     "output_type": "stream",
     "text": [
      "total\n"
     ]
    }
   ],
   "source": [
    "if invoice_number and total_charged:\n",
    "    print('ambos')\n",
    "elif invoice_number:\n",
    "    print('invoice')\n",
    "elif total_charged:\n",
    "    print('total')"
   ]
  },
  {
   "cell_type": "code",
   "execution_count": null,
   "id": "f04d3625",
   "metadata": {},
   "outputs": [],
   "source": []
  }
 ],
 "metadata": {
  "kernelspec": {
   "display_name": "Python 3 (ipykernel)",
   "language": "python",
   "name": "python3"
  },
  "language_info": {
   "codemirror_mode": {
    "name": "ipython",
    "version": 3
   },
   "file_extension": ".py",
   "mimetype": "text/x-python",
   "name": "python",
   "nbconvert_exporter": "python",
   "pygments_lexer": "ipython3",
   "version": "3.9.5"
  }
 },
 "nbformat": 4,
 "nbformat_minor": 5
}
